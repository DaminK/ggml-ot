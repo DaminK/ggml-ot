{
 "cells": [
  {
   "cell_type": "markdown",
   "id": "2cf7f743",
   "metadata": {},
   "source": [
    "### Hyperparameter Tuning for ggml-ot"
   ]
  },
  {
   "cell_type": "markdown",
   "id": "fa69551b",
   "metadata": {},
   "source": [
    "In this tutorial, we explore how to tune the hyperparameters of the ggml-ot framework, which is sensitive to choices of $\\alpha$ and $\\lambda$. These hyperparameters control the margin and the regularization strength in the learned metric.\n",
    "\n",
    "ggml-ot supports automatic hyperparameter tuning: if a list of possible values for $\\alpha$, $\\lambda$ or (the rank of the subspace projection) $k$ is provided, instead of a single float, the model will internally search for the best combination.\n",
    "\n",
    "After training, the most suitable parameters are returned together with the best w_theta.\n",
    "\n"
   ]
  },
  {
   "cell_type": "markdown",
   "id": "a03b6c6b",
   "metadata": {},
   "source": [
    "Load the dataset and import necessary packages. Here, we use the Myocardial Infarction dataset from Kuppe et al., 2022 (https://www.nature.com/articles/s41586-022-05060-x)."
   ]
  },
  {
   "cell_type": "code",
   "execution_count": null,
   "id": "3660e8d7",
   "metadata": {},
   "outputs": [],
   "source": [
    "import ggml_ot\n",
    "import anndata as ad\n",
    "\n",
    "local_path = \"data/czi_dataset.h5ad\"\n",
    "adata = ad.read_h5ad(local_path)"
   ]
  },
  {
   "cell_type": "markdown",
   "id": "50321ccd",
   "metadata": {},
   "source": [
    "We now run the ggml function and test for the best combination of the values $\\alpha$ = {0.1,10} and $\\lambda$ = {0.1,10} by passing lists for the two parameters.\n",
    "\n",
    "To keep the runtime manageable, we limit the number of iterations to five and the subset of cells per patient to 500.\n",
    "Depending on the size of your dataset and number of hyperparameter combinations, this may take a while."
   ]
  },
  {
   "cell_type": "code",
   "execution_count": 2,
   "id": "55f8b015",
   "metadata": {},
   "outputs": [
    {
     "name": "stdout",
     "output_type": "stream",
     "text": [
      "keeping 7777 high variable genes\n",
      "Starting the hyperparameter tuning\n"
     ]
    },
    {
     "data": {
      "text/html": [
       "<div>\n",
       "<style scoped>\n",
       "    .dataframe tbody tr th:only-of-type {\n",
       "        vertical-align: middle;\n",
       "    }\n",
       "\n",
       "    .dataframe tbody tr th {\n",
       "        vertical-align: top;\n",
       "    }\n",
       "\n",
       "    .dataframe thead th {\n",
       "        text-align: right;\n",
       "    }\n",
       "</style>\n",
       "<table border=\"1\" class=\"dataframe\">\n",
       "  <thead>\n",
       "    <tr style=\"text-align: right;\">\n",
       "      <th></th>\n",
       "      <th>knn_acc</th>\n",
       "      <th>mi</th>\n",
       "      <th>ari</th>\n",
       "      <th>vi</th>\n",
       "      <th>score</th>\n",
       "    </tr>\n",
       "    <tr>\n",
       "      <th>method</th>\n",
       "      <th></th>\n",
       "      <th></th>\n",
       "      <th></th>\n",
       "      <th></th>\n",
       "      <th></th>\n",
       "    </tr>\n",
       "  </thead>\n",
       "  <tbody>\n",
       "    <tr>\n",
       "      <th>a=0.1, l=0.1, k=5</th>\n",
       "      <td>0.925</td>\n",
       "      <td>0.871089</td>\n",
       "      <td>0.920772</td>\n",
       "      <td>0.929053</td>\n",
       "      <td>0.915986</td>\n",
       "    </tr>\n",
       "  </tbody>\n",
       "</table>\n",
       "</div>"
      ],
      "text/plain": [
       "                   knn_acc        mi       ari        vi     score\n",
       "method                                                            \n",
       "a=0.1, l=0.1, k=5    0.925  0.871089  0.920772  0.929053  0.915986"
      ]
     },
     "metadata": {},
     "output_type": "display_data"
    },
    {
     "data": {
      "text/html": [
       "<div>\n",
       "<style scoped>\n",
       "    .dataframe tbody tr th:only-of-type {\n",
       "        vertical-align: middle;\n",
       "    }\n",
       "\n",
       "    .dataframe tbody tr th {\n",
       "        vertical-align: top;\n",
       "    }\n",
       "\n",
       "    .dataframe thead th {\n",
       "        text-align: right;\n",
       "    }\n",
       "</style>\n",
       "<table border=\"1\" class=\"dataframe\">\n",
       "  <thead>\n",
       "    <tr style=\"text-align: right;\">\n",
       "      <th></th>\n",
       "      <th>knn_acc</th>\n",
       "      <th>mi</th>\n",
       "      <th>ari</th>\n",
       "      <th>vi</th>\n",
       "      <th>score</th>\n",
       "    </tr>\n",
       "    <tr>\n",
       "      <th>method</th>\n",
       "      <th></th>\n",
       "      <th></th>\n",
       "      <th></th>\n",
       "      <th></th>\n",
       "      <th></th>\n",
       "    </tr>\n",
       "  </thead>\n",
       "  <tbody>\n",
       "    <tr>\n",
       "      <th>a=0.1, l=10, k=5</th>\n",
       "      <td>0.875</td>\n",
       "      <td>0.499167</td>\n",
       "      <td>0.732336</td>\n",
       "      <td>0.710212</td>\n",
       "      <td>0.761119</td>\n",
       "    </tr>\n",
       "  </tbody>\n",
       "</table>\n",
       "</div>"
      ],
      "text/plain": [
       "                  knn_acc        mi       ari        vi     score\n",
       "method                                                           \n",
       "a=0.1, l=10, k=5    0.875  0.499167  0.732336  0.710212  0.761119"
      ]
     },
     "metadata": {},
     "output_type": "display_data"
    },
    {
     "data": {
      "text/html": [
       "<div>\n",
       "<style scoped>\n",
       "    .dataframe tbody tr th:only-of-type {\n",
       "        vertical-align: middle;\n",
       "    }\n",
       "\n",
       "    .dataframe tbody tr th {\n",
       "        vertical-align: top;\n",
       "    }\n",
       "\n",
       "    .dataframe thead th {\n",
       "        text-align: right;\n",
       "    }\n",
       "</style>\n",
       "<table border=\"1\" class=\"dataframe\">\n",
       "  <thead>\n",
       "    <tr style=\"text-align: right;\">\n",
       "      <th></th>\n",
       "      <th>knn_acc</th>\n",
       "      <th>mi</th>\n",
       "      <th>ari</th>\n",
       "      <th>vi</th>\n",
       "      <th>score</th>\n",
       "    </tr>\n",
       "    <tr>\n",
       "      <th>method</th>\n",
       "      <th></th>\n",
       "      <th></th>\n",
       "      <th></th>\n",
       "      <th></th>\n",
       "      <th></th>\n",
       "    </tr>\n",
       "  </thead>\n",
       "  <tbody>\n",
       "    <tr>\n",
       "      <th>a=10, l=0.1, k=5</th>\n",
       "      <td>0.975</td>\n",
       "      <td>0.947845</td>\n",
       "      <td>0.974383</td>\n",
       "      <td>0.967818</td>\n",
       "      <td>0.969174</td>\n",
       "    </tr>\n",
       "  </tbody>\n",
       "</table>\n",
       "</div>"
      ],
      "text/plain": [
       "                  knn_acc        mi       ari        vi     score\n",
       "method                                                           \n",
       "a=10, l=0.1, k=5    0.975  0.947845  0.974383  0.967818  0.969174"
      ]
     },
     "metadata": {},
     "output_type": "display_data"
    },
    {
     "data": {
      "text/html": [
       "<div>\n",
       "<style scoped>\n",
       "    .dataframe tbody tr th:only-of-type {\n",
       "        vertical-align: middle;\n",
       "    }\n",
       "\n",
       "    .dataframe tbody tr th {\n",
       "        vertical-align: top;\n",
       "    }\n",
       "\n",
       "    .dataframe thead th {\n",
       "        text-align: right;\n",
       "    }\n",
       "</style>\n",
       "<table border=\"1\" class=\"dataframe\">\n",
       "  <thead>\n",
       "    <tr style=\"text-align: right;\">\n",
       "      <th></th>\n",
       "      <th>knn_acc</th>\n",
       "      <th>mi</th>\n",
       "      <th>ari</th>\n",
       "      <th>vi</th>\n",
       "      <th>score</th>\n",
       "    </tr>\n",
       "    <tr>\n",
       "      <th>method</th>\n",
       "      <th></th>\n",
       "      <th></th>\n",
       "      <th></th>\n",
       "      <th></th>\n",
       "      <th></th>\n",
       "    </tr>\n",
       "  </thead>\n",
       "  <tbody>\n",
       "    <tr>\n",
       "      <th>a=10, l=10, k=5</th>\n",
       "      <td>0.975</td>\n",
       "      <td>0.858474</td>\n",
       "      <td>0.942726</td>\n",
       "      <td>0.914377</td>\n",
       "      <td>0.940096</td>\n",
       "    </tr>\n",
       "  </tbody>\n",
       "</table>\n",
       "</div>"
      ],
      "text/plain": [
       "                 knn_acc        mi       ari        vi     score\n",
       "method                                                          \n",
       "a=10, l=10, k=5    0.975  0.858474  0.942726  0.914377  0.940096"
      ]
     },
     "metadata": {},
     "output_type": "display_data"
    }
   ],
   "source": [
    "w_theta, best = ggml_ot.ggml(adata, alpha=[0.1,10], reg=[0.1,10], max_iterations=5, n_cells=500, verbose=False)"
   ]
  },
  {
   "cell_type": "markdown",
   "id": "98e04be1",
   "metadata": {},
   "source": [
    "Once tuning is complete, the function returns \n",
    "- w_theta: the best learned weight matrix\n",
    "- best: a dictionary of the best hyperparameter combination that was used to train w_theta"
   ]
  },
  {
   "cell_type": "code",
   "execution_count": 3,
   "id": "53c78603",
   "metadata": {},
   "outputs": [
    {
     "name": "stdout",
     "output_type": "stream",
     "text": [
      "{'score': np.float64(0.9691744029802156), 'knn_acc': np.float64(0.975), 'alpha': 10, 'reg': 0.1, 'k': 5}\n"
     ]
    }
   ],
   "source": [
    "print(best)"
   ]
  },
  {
   "cell_type": "markdown",
   "id": "d2a436c2",
   "metadata": {},
   "source": [
    "Alternatively, we can run `ggml` and set the parameters `alpha`, `reg` and `rank_k` to [], to start an hyperparameter tuning with default values."
   ]
  },
  {
   "cell_type": "markdown",
   "id": "5fb8fff1",
   "metadata": {},
   "source": [
    "### Evaluating generalizability"
   ]
  },
  {
   "cell_type": "markdown",
   "id": "ee79ee44",
   "metadata": {},
   "source": [
    "Once w_theta was learned, we can assess how well it performs on unseen data. This ensures that the learned metric is not just memorizing training data but captures the general structure in the dataset.\n",
    "\n",
    "ggml-ot provides a benchmarking function, `evaluate_generalizability`, which uses a train/test split of distributions to evaluate:\n",
    "\n",
    "- k-NN classification accuracy\n",
    "- Adjusted Rand Index (ARI)\n",
    "- Normalized Mutual Information (NMI)\n",
    "- Variation of Information (VI)"
   ]
  },
  {
   "cell_type": "markdown",
   "id": "2e8b2448",
   "metadata": {},
   "source": [
    "To evaluate generalizability, we need to define the train/test split when creating the dataset using `scRNA_Dataset`. By specifying the train_size parameter, the data is automatically partitioned into training and test sets, which are then used for evaluation.\n",
    "\n",
    "In the following example, we use an 80% training and 20% test split. The matrix w_theta is trained using the best hyperparameters identified during the tuning step above but with 1000 cells per patient."
   ]
  },
  {
   "cell_type": "code",
   "execution_count": null,
   "id": "83f642e3",
   "metadata": {},
   "outputs": [
    {
     "name": "stdout",
     "output_type": "stream",
     "text": [
      "keeping 7777 high variable genes\n",
      "Running GGML with alpha: 10, reg: 0.1, rank: 5\n"
     ]
    },
    {
     "name": "stderr",
     "output_type": "stream",
     "text": [
      "100%|██████████| 9/9 [02:15<00:00, 15.07s/it]\n"
     ]
    },
    {
     "name": "stdout",
     "output_type": "stream",
     "text": [
      "Iteration 1 with Loss  108.90546417236328\n"
     ]
    },
    {
     "name": "stderr",
     "output_type": "stream",
     "text": [
      "100%|██████████| 9/9 [02:16<00:00, 15.19s/it]\n"
     ]
    },
    {
     "name": "stdout",
     "output_type": "stream",
     "text": [
      "Iteration 2 with Loss  87.245849609375\n"
     ]
    },
    {
     "name": "stderr",
     "output_type": "stream",
     "text": [
      "100%|██████████| 9/9 [02:22<00:00, 15.87s/it]\n"
     ]
    },
    {
     "name": "stdout",
     "output_type": "stream",
     "text": [
      "Iteration 3 with Loss  66.6489486694336\n"
     ]
    },
    {
     "name": "stderr",
     "output_type": "stream",
     "text": [
      "100%|██████████| 9/9 [02:19<00:00, 15.46s/it]\n"
     ]
    },
    {
     "name": "stdout",
     "output_type": "stream",
     "text": [
      "Iteration 4 with Loss  48.0069465637207\n"
     ]
    },
    {
     "name": "stderr",
     "output_type": "stream",
     "text": [
      "100%|██████████| 9/9 [02:18<00:00, 15.36s/it]\n"
     ]
    },
    {
     "name": "stdout",
     "output_type": "stream",
     "text": [
      "Iteration 5 with Loss  28.143152236938477\n"
     ]
    }
   ],
   "source": [
    "dataset = ggml_ot.scRNA_Dataset(adata, n_cells=500, train_size=0.8)\n",
    "w_theta = ggml_ot.ggml(dataset, alpha=10, reg=0.1, max_iterations=5, n_threads=16)"
   ]
  },
  {
   "cell_type": "markdown",
   "id": "5d01d3d2",
   "metadata": {},
   "source": [
    "Now, we use `evaluate_generalizability` and get the k-NN accuracy score, the MI score, the ARI score and the VI score."
   ]
  },
  {
   "cell_type": "code",
   "execution_count": null,
   "id": "cf383030",
   "metadata": {},
   "outputs": [
    {
     "data": {
      "text/html": [
       "<div>\n",
       "<style scoped>\n",
       "    .dataframe tbody tr th:only-of-type {\n",
       "        vertical-align: middle;\n",
       "    }\n",
       "\n",
       "    .dataframe tbody tr th {\n",
       "        vertical-align: top;\n",
       "    }\n",
       "\n",
       "    .dataframe thead th {\n",
       "        text-align: right;\n",
       "    }\n",
       "</style>\n",
       "<table border=\"1\" class=\"dataframe\">\n",
       "  <thead>\n",
       "    <tr style=\"text-align: right;\">\n",
       "      <th></th>\n",
       "      <th>knn_acc</th>\n",
       "      <th>mi</th>\n",
       "      <th>ari</th>\n",
       "      <th>vi</th>\n",
       "    </tr>\n",
       "    <tr>\n",
       "      <th>method</th>\n",
       "      <th></th>\n",
       "      <th></th>\n",
       "      <th></th>\n",
       "      <th></th>\n",
       "    </tr>\n",
       "  </thead>\n",
       "  <tbody>\n",
       "    <tr>\n",
       "      <th>alpha=10, reg=0.1</th>\n",
       "      <td>0.833333</td>\n",
       "      <td>0.895945</td>\n",
       "      <td>0.954769</td>\n",
       "      <td>0.937487</td>\n",
       "    </tr>\n",
       "  </tbody>\n",
       "</table>\n",
       "</div>"
      ],
      "text/plain": [
       "                    knn_acc        mi       ari        vi\n",
       "method                                                   \n",
       "alpha=10, reg=0.1  0.833333  0.895945  0.954769  0.937487"
      ]
     },
     "metadata": {},
     "output_type": "display_data"
    }
   ],
   "source": [
    "from ggml_ot.benchmark import evaluate_generalizability\n",
    "knn, mi, ari, vi = evaluate_generalizability(dataset, w_theta, print_latex=False, method=\"alpha=10, reg=0.1\")"
   ]
  }
 ],
 "metadata": {
  "kernelspec": {
   "display_name": ".venv",
   "language": "python",
   "name": "python3"
  },
  "language_info": {
   "codemirror_mode": {
    "name": "ipython",
    "version": 3
   },
   "file_extension": ".py",
   "mimetype": "text/x-python",
   "name": "python",
   "nbconvert_exporter": "python",
   "pygments_lexer": "ipython3",
   "version": "3.11.11"
  }
 },
 "nbformat": 4,
 "nbformat_minor": 5
}
